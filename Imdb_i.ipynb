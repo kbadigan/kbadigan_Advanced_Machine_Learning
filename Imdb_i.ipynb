{
  "cells": [
    {
      "cell_type": "markdown",
      "metadata": {
        "id": "view-in-github",
        "colab_type": "text"
      },
      "source": [
        "<a href=\"https://colab.research.google.com/github/kbadigan/kbadigan_Advanced_Machine_Learning/blob/main/Imdb_i.ipynb\" target=\"_parent\"><img src=\"https://colab.research.google.com/assets/colab-badge.svg\" alt=\"Open In Colab\"/></a>"
      ]
    },
    {
      "cell_type": "markdown",
      "metadata": {
        "id": "hXtEHpRGRy1w"
      },
      "source": [
        "### The IMDB Implementation"
      ]
    },
    {
      "cell_type": "markdown",
      "metadata": {
        "id": "Z5DVViSpRy1w"
      },
      "source": [
        "**Loading the IMDB dataset**"
      ]
    },
    {
      "cell_type": "code",
      "execution_count": null,
      "metadata": {
        "id": "O8Yw82dERy1x"
      },
      "outputs": [],
      "source": [
        "from tensorflow.keras.datasets import imdb\n",
        "(train_data, train_labels), (test_data, test_labels) = imdb.load_data(\n",
        "    num_words=10000)"
      ]
    },
    {
      "cell_type": "code",
      "execution_count": null,
      "metadata": {
        "id": "iudCIvOURy1x"
      },
      "outputs": [],
      "source": [
        "train_data[0]"
      ]
    },
    {
      "cell_type": "code",
      "execution_count": null,
      "metadata": {
        "id": "6v6ZKJd7Ry1x"
      },
      "outputs": [],
      "source": [
        "train_labels[0]"
      ]
    },
    {
      "cell_type": "code",
      "execution_count": null,
      "metadata": {
        "id": "GoNOPV28Ry1y",
        "colab": {
          "base_uri": "https://localhost:8080/"
        },
        "outputId": "3da60971-d65f-4ccf-fb0d-f5083b23e440"
      },
      "outputs": [
        {
          "output_type": "execute_result",
          "data": {
            "text/plain": [
              "9999"
            ]
          },
          "metadata": {},
          "execution_count": 12
        }
      ],
      "source": [
        "max([max(sequence) for sequence in train_data])"
      ]
    },
    {
      "cell_type": "markdown",
      "metadata": {
        "id": "ufuFnA_jRy1y"
      },
      "source": [
        "**Decoding reviews back to text**"
      ]
    },
    {
      "cell_type": "code",
      "execution_count": null,
      "metadata": {
        "id": "uPEzZhieRy1y",
        "colab": {
          "base_uri": "https://localhost:8080/"
        },
        "outputId": "b2772f1e-1640-4a37-a568-c93acfe41bf7"
      },
      "outputs": [
        {
          "output_type": "stream",
          "name": "stdout",
          "text": [
            "Downloading data from https://storage.googleapis.com/tensorflow/tf-keras-datasets/imdb_word_index.json\n",
            "1641221/1641221 [==============================] - 0s 0us/step\n"
          ]
        }
      ],
      "source": [
        "word_index = imdb.get_word_index()\n",
        "reverse_word_index = dict(\n",
        "    [(value, key) for (key, value) in word_index.items()])\n",
        "decoded_review = \" \".join(\n",
        "    [reverse_word_index.get(i - 3, \"?\") for i in train_data[0]])"
      ]
    },
    {
      "cell_type": "markdown",
      "metadata": {
        "id": "I0vYczj5Ry1y"
      },
      "source": [
        "### Preparing the data"
      ]
    },
    {
      "cell_type": "markdown",
      "metadata": {
        "id": "x7xpnYraRy1y"
      },
      "source": [
        "**Encoding the integer sequences via multi-hot encoding**"
      ]
    },
    {
      "cell_type": "code",
      "execution_count": null,
      "metadata": {
        "id": "AzYGkdyPRy1z"
      },
      "outputs": [],
      "source": [
        "import numpy as np\n",
        "def vectorize_sequences(sequences, dimension=10000):\n",
        "    results = np.zeros((len(sequences), dimension))\n",
        "    for i, sequence in enumerate(sequences):\n",
        "        for j in sequence:\n",
        "            results[i, j] = 1.\n",
        "    return results\n",
        "x_train = vectorize_sequences(train_data)\n",
        "x_test = vectorize_sequences(test_data)"
      ]
    },
    {
      "cell_type": "code",
      "execution_count": null,
      "metadata": {
        "id": "XiewL5tVRy1z"
      },
      "outputs": [],
      "source": [
        "x_train[0]"
      ]
    },
    {
      "cell_type": "code",
      "execution_count": null,
      "metadata": {
        "id": "MN9aqjO1Ry1z"
      },
      "outputs": [],
      "source": [
        "y_train = np.asarray(train_labels).astype(\"float32\")\n",
        "y_test = np.asarray(test_labels).astype(\"float32\")"
      ]
    },
    {
      "cell_type": "markdown",
      "metadata": {
        "id": "BCVFPzoQRy1z"
      },
      "source": [
        "### Building your model"
      ]
    },
    {
      "cell_type": "markdown",
      "metadata": {
        "id": "gxyRIohPRy1z"
      },
      "source": [
        "**Model definition**"
      ]
    },
    {
      "cell_type": "code",
      "execution_count": null,
      "metadata": {
        "id": "FhPAYn6URy1z",
        "colab": {
          "base_uri": "https://localhost:8080/"
        },
        "outputId": "cc971abb-8e48-4813-ab2e-233e40dabfc0"
      },
      "outputs": [
        {
          "output_type": "execute_result",
          "data": {
            "text/plain": [
              "<keras.engine.sequential.Sequential at 0x7fdca5f2a0d0>"
            ]
          },
          "metadata": {},
          "execution_count": 20
        }
      ],
      "source": [
        "from tensorflow import keras\n",
        "from tensorflow.keras import layers\n",
        "\n",
        "model = keras.Sequential([\n",
        "    layers.Dense(16, activation=\"relu\"),\n",
        "    layers.Dense(1, activation=\"sigmoid\")\n",
        "])\n",
        "model"
      ]
    },
    {
      "cell_type": "markdown",
      "metadata": {
        "id": "tvvsljZwRy1z"
      },
      "source": [
        "**Compiling the model**"
      ]
    },
    {
      "cell_type": "code",
      "execution_count": null,
      "metadata": {
        "id": "6W-kYfJxRy10",
        "colab": {
          "base_uri": "https://localhost:8080/"
        },
        "outputId": "33f1ba28-6fa0-4f97-8d13-ba35815210b6"
      },
      "outputs": [
        {
          "output_type": "execute_result",
          "data": {
            "text/plain": [
              "<keras.engine.sequential.Sequential at 0x7fdca5f2a0d0>"
            ]
          },
          "metadata": {},
          "execution_count": 21
        }
      ],
      "source": [
        "model.compile(optimizer=\"rmsprop\",\n",
        "              loss=\"binary_crossentropy\",\n",
        "              metrics=[\"accuracy\"])\n",
        "\n",
        "model"
      ]
    },
    {
      "cell_type": "markdown",
      "metadata": {
        "id": "iBn_V5IdRy10"
      },
      "source": [
        "### Validating your approach"
      ]
    },
    {
      "cell_type": "markdown",
      "metadata": {
        "id": "9i3ikP4aRy10"
      },
      "source": [
        "**Setting aside a validation set**"
      ]
    },
    {
      "cell_type": "code",
      "execution_count": null,
      "metadata": {
        "id": "s34Cmrh8Ry11"
      },
      "outputs": [],
      "source": [
        "import random\n",
        "random.seed(10)\n",
        "\n",
        "x_val = x_train[:10000]\n",
        "partial_x_train = x_train[10000:]\n",
        "y_val = y_train[:10000]\n",
        "partial_y_train = y_train[10000:]"
      ]
    },
    {
      "cell_type": "markdown",
      "metadata": {
        "id": "1O0Yn5BNRy11"
      },
      "source": [
        "**Training your model**"
      ]
    },
    {
      "cell_type": "code",
      "execution_count": null,
      "metadata": {
        "id": "zHChejjZRy11",
        "colab": {
          "base_uri": "https://localhost:8080/"
        },
        "outputId": "cd990ccb-8865-4ffb-9b0b-8c8510f16366"
      },
      "outputs": [
        {
          "output_type": "stream",
          "name": "stdout",
          "text": [
            "Epoch 1/4\n",
            "30/30 [==============================] - 4s 128ms/step - loss: 0.1564 - accuracy: 0.9517 - val_loss: 0.2791 - val_accuracy: 0.8853\n",
            "Epoch 2/4\n",
            "30/30 [==============================] - 2s 83ms/step - loss: 0.1428 - accuracy: 0.9561 - val_loss: 0.2819 - val_accuracy: 0.8862\n",
            "Epoch 3/4\n",
            "30/30 [==============================] - 2s 68ms/step - loss: 0.1309 - accuracy: 0.9617 - val_loss: 0.2861 - val_accuracy: 0.8854\n",
            "Epoch 4/4\n",
            "30/30 [==============================] - 1s 23ms/step - loss: 0.1202 - accuracy: 0.9659 - val_loss: 0.2975 - val_accuracy: 0.8831\n"
          ]
        }
      ],
      "source": [
        "history = model.fit(partial_x_train,\n",
        "                    partial_y_train,\n",
        "                    epochs=4,\n",
        "                    batch_size=512,\n",
        "                    validation_data=(x_val, y_val))"
      ]
    },
    {
      "cell_type": "code",
      "execution_count": null,
      "metadata": {
        "id": "Nn0qkeoBRy11",
        "colab": {
          "base_uri": "https://localhost:8080/"
        },
        "outputId": "83719090-12c4-48af-ab05-518c1db06cef"
      },
      "outputs": [
        {
          "output_type": "execute_result",
          "data": {
            "text/plain": [
              "dict_keys(['loss', 'accuracy', 'val_loss', 'val_accuracy'])"
            ]
          },
          "metadata": {},
          "execution_count": 67
        }
      ],
      "source": [
        "history_dict = history.history\n",
        "history_dict.keys()"
      ]
    },
    {
      "cell_type": "markdown",
      "metadata": {
        "id": "SWPujb_uRy11"
      },
      "source": [
        "**Plotting the training and validation loss**"
      ]
    },
    {
      "cell_type": "code",
      "execution_count": null,
      "metadata": {
        "id": "7zELuhGTRy11",
        "colab": {
          "base_uri": "https://localhost:8080/",
          "height": 295
        },
        "outputId": "b44bc771-338a-4137-96fb-3be9f0ac8393"
      },
      "outputs": [
        {
          "output_type": "display_data",
          "data": {
            "text/plain": [
              "<Figure size 432x288 with 1 Axes>"
            ],
            "image/png": "[encoded data removed]"
          },
          "metadata": {
            "needs_background": "light"
          }
        }
      ],
      "source": [
        "import matplotlib.pyplot as plt\n",
        "history_dict = history.history\n",
        "loss_values = history_dict[\"loss\"]\n",
        "val_loss_values = history_dict[\"val_loss\"]\n",
        "epochs = range(1, len(loss_values) + 1)\n",
        "plt.plot(epochs, loss_values, \"bo\", label=\"Training loss\")\n",
        "plt.plot(epochs, val_loss_values, \"b\", label=\"Validation loss\")\n",
        "plt.title(\"Training and validation loss\")\n",
        "plt.xlabel(\"Epochs\")\n",
        "plt.ylabel(\"Loss\")\n",
        "plt.legend()\n",
        "plt.show()"
      ]
    },
    {
      "cell_type": "markdown",
      "metadata": {
        "id": "yC5etxMNRy12"
      },
      "source": [
        "**Plotting the training and validation accuracy**"
      ]
    },
    {
      "cell_type": "code",
      "execution_count": null,
      "metadata": {
        "id": "rQi0wN_8Ry12",
        "colab": {
          "base_uri": "https://localhost:8080/",
          "height": 295
        },
        "outputId": "a6cdadf9-6686-4034-ff55-915bdf1139f8"
      },
      "outputs": [
        {
          "output_type": "display_data",
          "data": {
            "text/plain": [
              "<Figure size 432x288 with 1 Axes>"
            ],
            "image/png": "[encoded data removed]"
          },
          "metadata": {
            "needs_background": "light"
          }
        }
      ],
      "source": [
        "plt.clf()\n",
        "acc = history_dict[\"accuracy\"]\n",
        "val_acc = history_dict[\"val_accuracy\"]\n",
        "plt.plot(epochs, acc, \"bo\", label=\"Training acc\")\n",
        "plt.plot(epochs, val_acc, \"b\", label=\"Validation acc\")\n",
        "plt.title(\"Training and validation accuracy\")\n",
        "plt.xlabel(\"Epochs\")\n",
        "plt.ylabel(\"Accuracy\")\n",
        "plt.legend()\n",
        "plt.show()"
      ]
    },
    {
      "cell_type": "markdown",
      "metadata": {
        "id": "PYyy_uAoRy12"
      },
      "source": [
        "**Retraining a model from scratch**"
      ]
    },
    {
      "cell_type": "code",
      "execution_count": null,
      "metadata": {
        "id": "ZFwAhG57Ry12"
      },
      "outputs": [],
      "source": [
        "model = keras.Sequential([\n",
        "    layers.Dense(16, activation=\"relu\"),\n",
        "    layers.Dense(16, activation=\"relu\"),\n",
        "    layers.Dense(1, activation=\"sigmoid\")\n",
        "])\n",
        "model.compile(optimizer=\"rmsprop\",\n",
        "              loss=\"binary_crossentropy\",\n",
        "              metrics=[\"accuracy\"])\n",
        "model.fit(x_train, y_train, epochs=4, batch_size=512)\n",
        "results = model.evaluate(x_test, y_test)"
      ]
    },
    {
      "cell_type": "code",
      "execution_count": null,
      "metadata": {
        "id": "JT2trThrRy13"
      },
      "outputs": [],
      "source": [
        "results"
      ]
    },
    {
      "cell_type": "markdown",
      "metadata": {
        "id": "gSYskq4dRy13"
      },
      "source": [
        "### Adding Dropout and Regularization techniques"
      ]
    },
    {
      "cell_type": "code",
      "source": [
        "from keras.datasets import imdb\n",
        "from tensorflow import keras\n",
        "from keras.models import Sequential\n",
        "from keras.layers import Dense, Dropout\n",
        "from keras import regularizers\n",
        "import numpy as np\n",
        "from tensorflow.keras import layers\n",
        "# Load the IMDB dataset\n",
        "(train_data, train_labels), (test_data, test_labels) = imdb.load_data(num_words=10000)\n",
        "\n",
        "# Convert the IMDB data into binary matrices\n",
        "def vectorize_sequences(sequences, dimension=10000):\n",
        "    results = np.zeros((len(sequences), dimension))\n",
        "    for i, sequence in enumerate(sequences):\n",
        "        results[i, sequence] = 1.\n",
        "    return results\n",
        "\n",
        "x_train = vectorize_sequences(train_data)\n",
        "x_test = vectorize_sequences(test_data)\n",
        "y_train = np.asarray(train_labels).astype('float32')\n",
        "y_test = np.asarray(test_labels).astype('float32')\n",
        "\n",
        "\n",
        "import random\n",
        "random.seed(10)\n",
        "\n",
        "x_val = x_train[:10000]\n",
        "partial_x_train = x_train[10000:]\n",
        "y_val = y_train[:10000]\n",
        "partial_y_train = y_train[10000:]\n",
        "\n",
        "\n",
        "# Define the model architecture\n",
        "model = keras.Sequential([\n",
        "    layers.Dense(16,\n",
        "                 kernel_regularizer=regularizers.l2(0.0002),\n",
        "                 activation=\"relu\"),\n",
        "    layers.Dropout(0.3),\n",
        "    layers.Dense(16,\n",
        "                 kernel_regularizer=regularizers.l2(0.0002),\n",
        "                 activation=\"relu\"),\n",
        "    layers.Dropout(0.3),\n",
        "    layers.Dense(1, activation=\"sigmoid\")\n",
        "])\n",
        "\n",
        "# Compile the model\n",
        "model.compile(optimizer='rmsprop', loss='binary_crossentropy', metrics=['accuracy'])\n",
        "\n",
        "from keras.callbacks import EarlyStopping\n",
        "early_stop = EarlyStopping(monitor='val_loss', verbose=1, mode='min')\n",
        "history = model.fit(x_train, \n",
        "                    y_train,\n",
        "                    epochs=20, \n",
        "                    batch_size=512,\n",
        "                    validation_data=(x_val,y_val),\n",
        "                    \n",
        "                    callbacks=[early_stop])\n",
        "\n",
        "\n",
        "\n",
        "                    \n",
        "\n",
        "# Evaluate the model on the test data\n",
        "results = model.evaluate(x_test, y_test)\n"
      ],
      "metadata": {
        "colab": {
          "base_uri": "https://localhost:8080/"
        },
        "id": "VE1X8l9Eb5H4",
        "outputId": "66790ba6-63bf-42ba-c516-d677130eb569"
      },
      "execution_count": null,
      "outputs": [
        {
          "output_type": "stream",
          "name": "stdout",
          "text": [
            "Epoch 1/20\n",
            "49/49 [==============================] - 3s 39ms/step - loss: 0.5324 - accuracy: 0.7527 - val_loss: 0.3335 - val_accuracy: 0.8980\n",
            "Epoch 2/20\n",
            "49/49 [==============================] - 3s 71ms/step - loss: 0.3572 - accuracy: 0.8723 - val_loss: 0.2572 - val_accuracy: 0.9107\n",
            "Epoch 2: early stopping\n",
            "782/782 [==============================] - 5s 7ms/step - loss: 0.3181 - accuracy: 0.8784\n"
          ]
        }
      ]
    }
  ],
  "metadata": {
    "colab": {
      "provenance": [],
      "include_colab_link": true
    },
    "kernelspec": {
      "display_name": "Python 3",
      "language": "python",
      "name": "python3"
    },
    "language_info": {
      "codemirror_mode": {
        "name": "ipython",
        "version": 3
      },
      "file_extension": ".py",
      "mimetype": "text/x-python",
      "name": "python",
      "nbconvert_exporter": "python",
      "pygments_lexer": "ipython3",
      "version": "3.7.0"
    }
  },
  "nbformat": 4,
  "nbformat_minor": 0
}